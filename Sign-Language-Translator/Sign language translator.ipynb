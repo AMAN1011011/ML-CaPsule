{
 "cells": [
  {
   "cell_type": "code",
   "execution_count": 5,
   "metadata": {},
   "outputs": [
    {
     "name": "stdout",
     "output_type": "stream",
     "text": [
      "Defaulting to user installation because normal site-packages is not writeable\n",
      "Requirement already satisfied: mediapipe in c:\\users\\nancy\\appdata\\roaming\\python\\python311\\site-packages (0.10.14)\n",
      "Requirement already satisfied: absl-py in c:\\users\\nancy\\appdata\\roaming\\python\\python311\\site-packages (from mediapipe) (2.1.0)\n",
      "Requirement already satisfied: attrs>=19.1.0 in c:\\programdata\\anaconda3\\lib\\site-packages (from mediapipe) (22.1.0)\n",
      "Requirement already satisfied: flatbuffers>=2.0 in c:\\users\\nancy\\appdata\\roaming\\python\\python311\\site-packages (from mediapipe) (24.3.25)\n",
      "Requirement already satisfied: jax in c:\\users\\nancy\\appdata\\roaming\\python\\python311\\site-packages (from mediapipe) (0.4.29)\n",
      "Requirement already satisfied: jaxlib in c:\\users\\nancy\\appdata\\roaming\\python\\python311\\site-packages (from mediapipe) (0.4.29)\n",
      "Requirement already satisfied: matplotlib in c:\\programdata\\anaconda3\\lib\\site-packages (from mediapipe) (3.7.1)\n",
      "Requirement already satisfied: numpy in c:\\programdata\\anaconda3\\lib\\site-packages (from mediapipe) (1.24.3)\n",
      "Requirement already satisfied: opencv-contrib-python in c:\\users\\nancy\\appdata\\roaming\\python\\python311\\site-packages (from mediapipe) (4.10.0.82)\n",
      "Requirement already satisfied: protobuf<5,>=4.25.3 in c:\\users\\nancy\\appdata\\roaming\\python\\python311\\site-packages (from mediapipe) (4.25.3)\n",
      "Requirement already satisfied: sounddevice>=0.4.4 in c:\\users\\nancy\\appdata\\roaming\\python\\python311\\site-packages (from mediapipe) (0.4.7)\n",
      "Requirement already satisfied: CFFI>=1.0 in c:\\programdata\\anaconda3\\lib\\site-packages (from sounddevice>=0.4.4->mediapipe) (1.15.1)\n",
      "Requirement already satisfied: ml-dtypes>=0.4.0 in c:\\users\\nancy\\appdata\\roaming\\python\\python311\\site-packages (from jax->mediapipe) (0.4.0)\n",
      "Requirement already satisfied: opt-einsum in c:\\users\\nancy\\appdata\\roaming\\python\\python311\\site-packages (from jax->mediapipe) (3.3.0)\n",
      "Requirement already satisfied: scipy>=1.9 in c:\\programdata\\anaconda3\\lib\\site-packages (from jax->mediapipe) (1.10.1)\n",
      "Requirement already satisfied: contourpy>=1.0.1 in c:\\programdata\\anaconda3\\lib\\site-packages (from matplotlib->mediapipe) (1.0.5)\n",
      "Requirement already satisfied: cycler>=0.10 in c:\\programdata\\anaconda3\\lib\\site-packages (from matplotlib->mediapipe) (0.11.0)\n",
      "Requirement already satisfied: fonttools>=4.22.0 in c:\\programdata\\anaconda3\\lib\\site-packages (from matplotlib->mediapipe) (4.25.0)\n",
      "Requirement already satisfied: kiwisolver>=1.0.1 in c:\\programdata\\anaconda3\\lib\\site-packages (from matplotlib->mediapipe) (1.4.4)\n",
      "Requirement already satisfied: packaging>=20.0 in c:\\programdata\\anaconda3\\lib\\site-packages (from matplotlib->mediapipe) (23.0)\n",
      "Requirement already satisfied: pillow>=6.2.0 in c:\\programdata\\anaconda3\\lib\\site-packages (from matplotlib->mediapipe) (9.4.0)\n",
      "Requirement already satisfied: pyparsing>=2.3.1 in c:\\programdata\\anaconda3\\lib\\site-packages (from matplotlib->mediapipe) (3.0.9)\n",
      "Requirement already satisfied: python-dateutil>=2.7 in c:\\programdata\\anaconda3\\lib\\site-packages (from matplotlib->mediapipe) (2.8.2)\n",
      "Requirement already satisfied: pycparser in c:\\programdata\\anaconda3\\lib\\site-packages (from CFFI>=1.0->sounddevice>=0.4.4->mediapipe) (2.21)\n",
      "Requirement already satisfied: six>=1.5 in c:\\programdata\\anaconda3\\lib\\site-packages (from python-dateutil>=2.7->matplotlib->mediapipe) (1.16.0)\n",
      "Note: you may need to restart the kernel to use updated packages.\n"
     ]
    }
   ],
   "source": [
    "pip install mediapipe"
   ]
  },
  {
   "cell_type": "code",
   "execution_count": 6,
   "metadata": {},
   "outputs": [
    {
     "name": "stdout",
     "output_type": "stream",
     "text": [
      "Defaulting to user installation because normal site-packages is not writeable\n",
      "Requirement already satisfied: pyttsx3 in c:\\users\\nancy\\appdata\\roaming\\python\\python311\\site-packages (2.90)\n",
      "Requirement already satisfied: comtypes in c:\\users\\nancy\\appdata\\roaming\\python\\python311\\site-packages (from pyttsx3) (1.4.4)\n",
      "Requirement already satisfied: pypiwin32 in c:\\users\\nancy\\appdata\\roaming\\python\\python311\\site-packages (from pyttsx3) (223)\n",
      "Requirement already satisfied: pywin32 in c:\\programdata\\anaconda3\\lib\\site-packages (from pyttsx3) (305.1)\n",
      "Note: you may need to restart the kernel to use updated packages.\n"
     ]
    }
   ],
   "source": [
    "pip install pyttsx3"
   ]
  },
  {
   "cell_type": "code",
   "execution_count": 1,
   "metadata": {},
   "outputs": [],
   "source": [
    "import cv2\n",
    "import mediapipe as mp\n",
    "import pyttsx3\n",
    "import concurrent.futures\n",
    "\n"
   ]
  },
  {
   "cell_type": "code",
   "execution_count": 2,
   "metadata": {},
   "outputs": [],
   "source": [
    "def speak(text):\n",
    "    text_speech = pyttsx3.init()\n",
    "    text_speech.say(text)\n",
    "    text_speech.runAndWait()\n"
   ]
  },
  {
   "cell_type": "code",
   "execution_count": 3,
   "metadata": {},
   "outputs": [],
   "source": [
    "cap = cv2.VideoCapture(0)\n",
    "mphands = mp.solutions.hands\n",
    "hands = mphands.Hands(static_image_mode=False,max_num_hands=2,\n",
    "                      min_detection_confidence=0.5,\n",
    "                      min_tracking_confidence=0.5)\n",
    "mpDraw = mp.solutions.drawing_utils\n",
    "\n",
    "txt1 = \"1\"\n",
    "txt2 = \"2\"\n",
    "txt3 = \"3\"\n",
    "txt4 = \"4\"\n",
    "txt5 = \"5\"\n",
    "txt6 = \"6\"\n",
    "txt7 = \"7\"\n",
    "txt8 = \"8\""
   ]
  },
  {
   "cell_type": "code",
   "execution_count": 5,
   "metadata": {},
   "outputs": [
    {
     "name": "stderr",
     "output_type": "stream",
     "text": [
      "C:\\Users\\nancy\\AppData\\Roaming\\Python\\Python311\\site-packages\\google\\protobuf\\symbol_database.py:55: UserWarning: SymbolDatabase.GetPrototype() is deprecated. Please use message_factory.GetMessageClass() instead. SymbolDatabase.GetPrototype() will be removed soon.\n",
      "  warnings.warn('SymbolDatabase.GetPrototype() is deprecated. Please '\n"
     ]
    },
    {
     "ename": "NameError",
     "evalue": "name 'frame' is not defined",
     "output_type": "error",
     "traceback": [
      "\u001b[1;31m---------------------------------------------------------------------------\u001b[0m",
      "\u001b[1;31mNameError\u001b[0m                                 Traceback (most recent call last)",
      "Cell \u001b[1;32mIn[5], line 40\u001b[0m\n\u001b[0;32m     36\u001b[0m  \u001b[38;5;66;03m# Condition for hi\u001b[39;00m\n\u001b[0;32m     37\u001b[0m \u001b[38;5;28;01mif\u001b[39;00m (handpoints[\u001b[38;5;241m4\u001b[39m] \u001b[38;5;241m<\u001b[39m handpoints[\u001b[38;5;241m2\u001b[39m] \u001b[38;5;129;01mand\u001b[39;00m handpoints[\u001b[38;5;241m8\u001b[39m] \u001b[38;5;241m<\u001b[39m handpoints[\u001b[38;5;241m6\u001b[39m]) \u001b[38;5;129;01mand\u001b[39;00m \\\n\u001b[0;32m     38\u001b[0m             (handpoints[\u001b[38;5;241m20\u001b[39m] \u001b[38;5;241m<\u001b[39m handpoints[\u001b[38;5;241m18\u001b[39m] \u001b[38;5;129;01mand\u001b[39;00m handpoints[\u001b[38;5;241m12\u001b[39m] \u001b[38;5;241m<\u001b[39m handpoints[\u001b[38;5;241m10\u001b[39m]) \u001b[38;5;129;01mand\u001b[39;00m \\\n\u001b[0;32m     39\u001b[0m             (handpoints[\u001b[38;5;241m16\u001b[39m] \u001b[38;5;241m<\u001b[39m handpoints[\u001b[38;5;241m14\u001b[39m]):\n\u001b[1;32m---> 40\u001b[0m         cv2\u001b[38;5;241m.\u001b[39mputText(frame, txt9, (\u001b[38;5;241m15\u001b[39m, \u001b[38;5;241m250\u001b[39m), cv2\u001b[38;5;241m.\u001b[39mFONT_HERSHEY_PLAIN, \u001b[38;5;241m3\u001b[39m, (\u001b[38;5;241m0\u001b[39m, \u001b[38;5;241m0\u001b[39m, \u001b[38;5;241m255\u001b[39m), \u001b[38;5;241m5\u001b[39m)\n\u001b[0;32m     42\u001b[0m  \u001b[38;5;66;03m# condition for smile\u001b[39;00m\n\u001b[0;32m     43\u001b[0m \u001b[38;5;28;01mif\u001b[39;00m handpoints[\u001b[38;5;241m4\u001b[39m][\u001b[38;5;241m1\u001b[39m] \u001b[38;5;241m<\u001b[39m handpoints[\u001b[38;5;241m2\u001b[39m][\u001b[38;5;241m1\u001b[39m] \u001b[38;5;129;01mand\u001b[39;00m handpoints[\u001b[38;5;241m8\u001b[39m][\u001b[38;5;241m0\u001b[39m] \u001b[38;5;241m<\u001b[39m handpoints[\u001b[38;5;241m6\u001b[39m][\u001b[38;5;241m0\u001b[39m]:\n",
      "\u001b[1;31mNameError\u001b[0m: name 'frame' is not defined"
     ]
    },
    {
     "ename": "",
     "evalue": "",
     "output_type": "error",
     "traceback": [
      "\u001b[1;31mThe Kernel crashed while executing code in the current cell or a previous cell. \n",
      "\u001b[1;31mPlease review the code in the cell(s) to identify a possible cause of the failure. \n",
      "\u001b[1;31mClick <a href='https://aka.ms/vscodeJupyterKernelCrash'>here</a> for more info. \n",
      "\u001b[1;31mView Jupyter <a href='command:jupyter.viewOutput'>log</a> for further details."
     ]
    }
   ],
   "source": [
    "while True:\n",
    "    success,img=cap.read()\n",
    "    if not cap.isOpened():\n",
    "      print(\"Error: Camera not opened.\")\n",
    "      exit()\n",
    "    imgRGB=cv2.cvtColor(img,cv2.COLOR_BGR2RGB)\n",
    "    results=hands.process(imgRGB)\n",
    "    multiLandMarks=results.multi_hand_landmarks\n",
    "    if multiLandMarks:\n",
    "        handpoints=[]\n",
    "        for handLms in multiLandMarks:\n",
    "            mpDraw.draw_landmarks(img,handLms,mpHands.HAND_CONNECTIONS)\n",
    "            for idx, lm in enumerate(handLms.landmark):\n",
    "                # print(id,lm)\n",
    "                h,w,c=img.shape\n",
    "                cx,cy=int(lm.x*w),int(lm.y*h)\n",
    "                handpoints.append((cx,cy))\n",
    "        for point in handpoints:\n",
    "            cv2.circle(img,point,10,(0,0,255),cv2.FILLED)\n",
    "            upcount=0\n",
    "        for cordinate in fingercordinates:\n",
    "            if handpoints[cordinate[0]][1] < handpoints[cordinate[1]][1]:\n",
    "                upcount+=1\n",
    "        if handpoints[thumbcordinate[0]][0] >handpoints[thumbcordinate[1]][0]:\n",
    "            upcount+=1\n",
    "\n",
    "         #condition for victory\n",
    "        if (handpoints[8][1] < handpoints[6][1]) and (handpoints[12][1] < handpoints[10][1]) :\n",
    "            if upcount==2:\n",
    "                cv2.putText(img, \"VICTORY\", (15, 250), cv2.FONT_HERSHEY_PLAIN, 3, (0, 0, 255), 5)\n",
    "        \n",
    "        #condition for ok\n",
    "        if handpoints[4][1] < handpoints[2][1] and handpoints[4][1] < handpoints[5][1] and handpoints[8][1] > handpoints[5][1] and upcount == 1:\n",
    "            cv2.putText(img, \"OK\", (15, 250), cv2.FONT_HERSHEY_PLAIN, 3, (0, 0, 255), 5)\n",
    "\n",
    "         # Condition for hi\n",
    "        if (handpoints[4] < handpoints[2] and handpoints[8] < handpoints[6]) and \\\n",
    "                    (handpoints[20] < handpoints[18] and handpoints[12] < handpoints[10]) and \\\n",
    "                    (handpoints[16] < handpoints[14]):\n",
    "                cv2.putText(frame, txt9, (15, 250), cv2.FONT_HERSHEY_PLAIN, 3, (0, 0, 255), 5)\n",
    "\n",
    "         # condition for smile\n",
    "        if handpoints[4][1] < handpoints[2][1] and handpoints[8][0] < handpoints[6][0]:\n",
    "            if upcount == 2:\n",
    "                cv2.putText(img, \"smile\", (15, 250), cv2.FONT_HERSHEY_PLAIN, 3, (0, 0, 255), 5)\n",
    "\n",
    "         # condition for call me\n",
    "        if (handpoints[4][1] < handpoints[2][1] and handpoints[20][1] < handpoints[18][1]):\n",
    "            if upcount == 2:\n",
    "                cv2.putText(img, \"call me\", (15, 250), cv2.FONT_HERSHEY_PLAIN, 3, (0, 0, 255), 5)\n",
    "\n",
    "        # condition for hot\n",
    "        if (handpoints[8][1] < handpoints[6][1]) :\n",
    "            if upcount == 1:\n",
    "                cv2.putText(img, \"HOT\", (15, 250), cv2.FONT_HERSHEY_PLAIN, 3, (0, 0, 255), 5)\n",
    "\n",
    "         # condition for lose\n",
    "        if handpoints[thumbcordinate[0]][0] > handpoints[thumbcordinate[1]][0]:\n",
    "           if upcount == 1:\n",
    "                cv2.putText(img, \"LOSE\", (15,250), cv2.FONT_HERSHEY_PLAIN, 3, (0, 0, 255), 5)\n",
    "         # #condition for thumbs up\n",
    "         # if (handpoints[4][1] < handpoints[2][1] and handpoints[8][1] < handpoints[6][1]) and (handpoints[20][1] > handpoints[18][1] and handpoints[12][1] > handpoints[10][1]) and (handpoints[16][1] > handpoints[14][1]):\n",
    "         #     if upcount == 1:\n",
    "         #         cv2.putText(img, \"THUMBS UP\", (15,250), cv2.FONT_HERSHEY_PLAIN, 3, (0, 0, 255), 5)\n",
    "\n",
    "         # condition for thief (thumb tip touching index finger tip and rest of fingers closed)\n",
    "        dist_thumb_index = abs(handpoints[4][0] - handpoints[8][0]) + abs(handpoints[4][1] - handpoints[8][1])\n",
    "        if dist_thumb_index < 60 and upcount==2:\n",
    "            cv2.putText(img, \"thief\", (15, 250), cv2.FONT_HERSHEY_PLAIN, 3, (0, 0, 255), 5)\n",
    "\n",
    "\n",
    "\n",
    "        cv2.putText(img,str(upcount),(100,150),cv2.FONT_HERSHEY_PLAIN,12,(255,0,0),12)\n",
    "\n",
    "\n",
    "    cv2.imshow(\"finger counter\",img)\n",
    "    if cv2.waitKey(1) & 0xFF == 27:  # Press 'Esc' key to exit the loop and close the window\n",
    "        break\n"
   ]
  },
  {
   "cell_type": "code",
   "execution_count": 5,
   "metadata": {},
   "outputs": [],
   "source": [
    "cap.release()\n",
    "cv2.destroyAllWindows()"
   ]
  }
 ],
 "metadata": {
  "kernelspec": {
   "display_name": "base",
   "language": "python",
   "name": "python3"
  },
  "language_info": {
   "codemirror_mode": {
    "name": "ipython",
    "version": 3
   },
   "file_extension": ".py",
   "mimetype": "text/x-python",
   "name": "python",
   "nbconvert_exporter": "python",
   "pygments_lexer": "ipython3",
   "version": "3.11.4"
  }
 },
 "nbformat": 4,
 "nbformat_minor": 2
}
