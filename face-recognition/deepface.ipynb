{
 "cells": [
  {
   "cell_type": "code",
   "execution_count": 2,
   "metadata": {},
   "outputs": [
    {
     "name": "stdout",
     "output_type": "stream",
     "text": [
      "Defaulting to user installation because normal site-packages is not writeable\n",
      "\u001b[31mERROR: Invalid requirement: 'tf_keras,'\u001b[0m\n",
      "\u001b[33mWARNING: You are using pip version 21.2.3; however, version 24.0 is available.\n",
      "You should consider upgrading via the '/usr/local/bin/python3.10 -m pip install --upgrade pip' command.\u001b[0m\n",
      "Note: you may need to restart the kernel to use updated packages.\n"
     ]
    }
   ],
   "source": [
    "pip install tf_keras, deepface"
   ]
  },
  {
   "cell_type": "code",
   "execution_count": 3,
   "metadata": {},
   "outputs": [
    {
     "name": "stderr",
     "output_type": "stream",
     "text": [
      "2024-05-29 10:45:16.090453: I tensorflow/core/util/port.cc:113] oneDNN custom operations are on. You may see slightly different numerical results due to floating-point round-off errors from different computation orders. To turn them off, set the environment variable `TF_ENABLE_ONEDNN_OPTS=0`.\n",
      "2024-05-29 10:45:16.155646: I tensorflow/core/platform/cpu_feature_guard.cc:210] This TensorFlow binary is optimized to use available CPU instructions in performance-critical operations.\n",
      "To enable the following instructions: AVX2 AVX_VNNI FMA, in other operations, rebuild TensorFlow with the appropriate compiler flags.\n",
      "2024-05-29 10:45:17.426428: W tensorflow/compiler/tf2tensorrt/utils/py_utils.cc:38] TF-TRT Warning: Could not find TensorRT\n"
     ]
    }
   ],
   "source": [
    "from deepface import DeepFace\n",
    "detector_backends = [ 'opencv', 'retinaface',\n",
    "        'mtcnn', 'ssd', 'dlib', 'mediapipe', 'yolov8', 'centerface'] # or 'skip' (default is opencv)."
   ]
  },
  {
   "cell_type": "code",
   "execution_count": 4,
   "metadata": {},
   "outputs": [
    {
     "data": {
      "text/plain": [
       "[{'face': array([[[0.23529412, 0.27058825, 0.3372549 ],\n",
       "          [0.24705882, 0.2784314 , 0.34901962],\n",
       "          [0.28235295, 0.30588236, 0.38039216],\n",
       "          ...,\n",
       "          [0.09019608, 0.09019608, 0.12156863],\n",
       "          [0.09019608, 0.09019608, 0.12156863],\n",
       "          [0.09411765, 0.09411765, 0.1254902 ]],\n",
       "  \n",
       "         [[0.22745098, 0.2627451 , 0.32941177],\n",
       "          [0.24313726, 0.27450982, 0.34117648],\n",
       "          [0.2784314 , 0.30588236, 0.3764706 ],\n",
       "          ...,\n",
       "          [0.09019608, 0.09019608, 0.12156863],\n",
       "          [0.09019608, 0.09019608, 0.1254902 ],\n",
       "          [0.09411765, 0.09411765, 0.1254902 ]],\n",
       "  \n",
       "         [[0.20392157, 0.23921569, 0.30588236],\n",
       "          [0.22352941, 0.25882354, 0.3254902 ],\n",
       "          [0.27450982, 0.3019608 , 0.37254903],\n",
       "          ...,\n",
       "          [0.09019608, 0.09019608, 0.12156863],\n",
       "          [0.09411765, 0.09411765, 0.1254902 ],\n",
       "          [0.09411765, 0.09411765, 0.1254902 ]],\n",
       "  \n",
       "         ...,\n",
       "  \n",
       "         [[0.3372549 , 0.34509805, 0.42352942],\n",
       "          [0.30980393, 0.31764707, 0.39215687],\n",
       "          [0.23529412, 0.24705882, 0.32156864],\n",
       "          ...,\n",
       "          [0.90588236, 0.6392157 , 0.4627451 ],\n",
       "          [0.9098039 , 0.6431373 , 0.46666667],\n",
       "          [0.9098039 , 0.6431373 , 0.46666667]],\n",
       "  \n",
       "         [[0.34509805, 0.35686275, 0.43137255],\n",
       "          [0.30980393, 0.31764707, 0.39607844],\n",
       "          [0.21176471, 0.22352941, 0.29803923],\n",
       "          ...,\n",
       "          [0.90588236, 0.6392157 , 0.4627451 ],\n",
       "          [0.9098039 , 0.6431373 , 0.46666667],\n",
       "          [0.9098039 , 0.6431373 , 0.46666667]],\n",
       "  \n",
       "         [[0.34901962, 0.36078432, 0.43529412],\n",
       "          [0.30980393, 0.31764707, 0.39215687],\n",
       "          [0.20392157, 0.21568628, 0.2901961 ],\n",
       "          ...,\n",
       "          [0.90588236, 0.6392157 , 0.4627451 ],\n",
       "          [0.9098039 , 0.6431373 , 0.46666667],\n",
       "          [0.9098039 , 0.6431373 , 0.46666667]]], dtype=float32),\n",
       "  'facial_area': {'x': 17,\n",
       "   'y': 38,\n",
       "   'w': 101,\n",
       "   'h': 101,\n",
       "   'left_eye': None,\n",
       "   'right_eye': None},\n",
       "  'confidence': 0.96}]"
      ]
     },
     "execution_count": 4,
     "metadata": {},
     "output_type": "execute_result"
    }
   ],
   "source": [
    "faces=DeepFace.extract_faces(\"img1.jpg\")\n",
    "faces"
   ]
  },
  {
   "cell_type": "code",
   "execution_count": 10,
   "metadata": {},
   "outputs": [
    {
     "name": "stdout",
     "output_type": "stream",
     "text": [
      "{'verified': True, 'distance': 0.5945624695450326, 'threshold': 0.68, 'model': 'VGG-Face', 'detector_backend': 'opencv', 'similarity_metric': 'cosine', 'facial_areas': {'img1': {'x': 17, 'y': 38, 'w': 101, 'h': 101, 'left_eye': None, 'right_eye': None}, 'img2': {'x': 55, 'y': 36, 'w': 67, 'h': 67, 'left_eye': None, 'right_eye': None}}, 'time': 0.8}\n"
     ]
    }
   ],
   "source": [
    "models = [\"VGG-Face\",\"Facenet\",\"Facenet512\",\"OpenFace\",\"DeepFace\",\"DeepID\",\"ArcFace\",\"Dlib\",\"SFace\",\"GhostFaceNet\"]\n",
    "#You can adjust the threshold according to your use case. Print the result and see the distance values. Then, you can decide the optimal threshold for your project.\n",
    "#you can use any of the these models for verify and find methods for recognition\n",
    "from deepface import DeepFace\n",
    "fr_result = DeepFace.verify(\"img1.jpg\",\"img2.jpg\")\n",
    "print(fr_result)"
   ]
  },
  {
   "cell_type": "code",
   "execution_count": null,
   "metadata": {},
   "outputs": [],
   "source": [
    "dfs = DeepFace.find(\n",
    "  img_path = \"img1.jpg\",\n",
    "  db_path = \"db\"\n",
    ")\n",
    "print(dfs) #you can print the result to see the distance values"
   ]
  }
 ],
 "metadata": {
  "kernelspec": {
   "display_name": "Python 3",
   "language": "python",
   "name": "python3"
  },
  "language_info": {
   "codemirror_mode": {
    "name": "ipython",
    "version": 3
   },
   "file_extension": ".py",
   "mimetype": "text/x-python",
   "name": "python",
   "nbconvert_exporter": "python",
   "pygments_lexer": "ipython3",
   "version": "3.10.0"
  }
 },
 "nbformat": 4,
 "nbformat_minor": 2
}
